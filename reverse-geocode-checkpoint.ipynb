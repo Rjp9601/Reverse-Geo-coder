{
 "cells": [
  {
   "cell_type": "code",
   "execution_count": 5,
   "id": "31861d6c",
   "metadata": {},
   "outputs": [],
   "source": [
    "import pandas\n",
    "from geopy.geocoders import ArcGIS\n"
   ]
  },
  {
   "cell_type": "code",
   "execution_count": 10,
   "id": "bb796819",
   "metadata": {},
   "outputs": [
    {
     "data": {
      "text/html": [
       "<div>\n",
       "<style scoped>\n",
       "    .dataframe tbody tr th:only-of-type {\n",
       "        vertical-align: middle;\n",
       "    }\n",
       "\n",
       "    .dataframe tbody tr th {\n",
       "        vertical-align: top;\n",
       "    }\n",
       "\n",
       "    .dataframe thead th {\n",
       "        text-align: right;\n",
       "    }\n",
       "</style>\n",
       "<table border=\"1\" class=\"dataframe\">\n",
       "  <thead>\n",
       "    <tr style=\"text-align: right;\">\n",
       "      <th></th>\n",
       "      <th>address</th>\n",
       "      <th>city</th>\n",
       "      <th>state</th>\n",
       "      <th>country</th>\n",
       "    </tr>\n",
       "  </thead>\n",
       "  <tbody>\n",
       "    <tr>\n",
       "      <th>0</th>\n",
       "      <td>sun pharma rd</td>\n",
       "      <td>vadodara</td>\n",
       "      <td>390012 gujarat</td>\n",
       "      <td>india</td>\n",
       "    </tr>\n",
       "    <tr>\n",
       "      <th>1</th>\n",
       "      <td>nse</td>\n",
       "      <td>mumbai</td>\n",
       "      <td>400051 maharashtra</td>\n",
       "      <td>india</td>\n",
       "    </tr>\n",
       "    <tr>\n",
       "      <th>2</th>\n",
       "      <td>harry street</td>\n",
       "      <td>surat</td>\n",
       "      <td>390001 gujarat</td>\n",
       "      <td>india</td>\n",
       "    </tr>\n",
       "  </tbody>\n",
       "</table>\n",
       "</div>"
      ],
      "text/plain": [
       "         address      city               state country\n",
       "0  sun pharma rd  vadodara      390012 gujarat   india\n",
       "1            nse    mumbai  400051 maharashtra   india\n",
       "2   harry street     surat      390001 gujarat  india "
      ]
     },
     "execution_count": 10,
     "metadata": {},
     "output_type": "execute_result"
    }
   ],
   "source": [
    "df=pandas.DataFrame()\n",
    "df=pandas.read_csv(\"geocode.txt\")\n",
    "df"
   ]
  },
  {
   "cell_type": "code",
   "execution_count": 12,
   "id": "5df79aa0",
   "metadata": {},
   "outputs": [
    {
     "name": "stderr",
     "output_type": "stream",
     "text": [
      "C:\\Users\\ANI\\AppData\\Local\\Temp/ipykernel_10564/1954494944.py:6: FutureWarning: In a future version of pandas all arguments of DataFrame.drop except for the argument 'labels' will be keyword-only\n",
      "  df1 = df.drop(\"add'\" ,1)\n"
     ]
    },
    {
     "data": {
      "text/html": [
       "<div>\n",
       "<style scoped>\n",
       "    .dataframe tbody tr th:only-of-type {\n",
       "        vertical-align: middle;\n",
       "    }\n",
       "\n",
       "    .dataframe tbody tr th {\n",
       "        vertical-align: top;\n",
       "    }\n",
       "\n",
       "    .dataframe thead th {\n",
       "        text-align: right;\n",
       "    }\n",
       "</style>\n",
       "<table border=\"1\" class=\"dataframe\">\n",
       "  <thead>\n",
       "    <tr style=\"text-align: right;\">\n",
       "      <th></th>\n",
       "      <th>address</th>\n",
       "      <th>city</th>\n",
       "      <th>state</th>\n",
       "      <th>country</th>\n",
       "      <th>latitude</th>\n",
       "      <th>longitude</th>\n",
       "    </tr>\n",
       "  </thead>\n",
       "  <tbody>\n",
       "    <tr>\n",
       "      <th>0</th>\n",
       "      <td>sun pharma rd, vadodara, 390012 gujarat, india</td>\n",
       "      <td>vadodara</td>\n",
       "      <td>390012 gujarat</td>\n",
       "      <td>india</td>\n",
       "      <td>22.280772</td>\n",
       "      <td>73.163149</td>\n",
       "    </tr>\n",
       "    <tr>\n",
       "      <th>1</th>\n",
       "      <td>nse,  mumbai, 400051 maharashtra, india</td>\n",
       "      <td>mumbai</td>\n",
       "      <td>400051 maharashtra</td>\n",
       "      <td>india</td>\n",
       "      <td>19.060715</td>\n",
       "      <td>72.854564</td>\n",
       "    </tr>\n",
       "    <tr>\n",
       "      <th>2</th>\n",
       "      <td>harry street, surat, 390001 gujarat, india</td>\n",
       "      <td>surat</td>\n",
       "      <td>390001 gujarat</td>\n",
       "      <td>india</td>\n",
       "      <td>22.296850</td>\n",
       "      <td>73.196134</td>\n",
       "    </tr>\n",
       "  </tbody>\n",
       "</table>\n",
       "</div>"
      ],
      "text/plain": [
       "                                          address      city  \\\n",
       "0  sun pharma rd, vadodara, 390012 gujarat, india  vadodara   \n",
       "1         nse,  mumbai, 400051 maharashtra, india    mumbai   \n",
       "2     harry street, surat, 390001 gujarat, india      surat   \n",
       "\n",
       "                state country   latitude  longitude  \n",
       "0      390012 gujarat   india  22.280772  73.163149  \n",
       "1  400051 maharashtra   india  19.060715  72.854564  \n",
       "2      390001 gujarat  india   22.296850  73.196134  "
      ]
     },
     "execution_count": 12,
     "metadata": {},
     "output_type": "execute_result"
    }
   ],
   "source": [
    "nom= ArcGIS()\n",
    "df[\"address\"]= df[\"address\"] +\", \"+df[\"city\"]+\", \"+df[\"state\"]+\", \"+df[\"country\"]\n",
    "df[\"add'\"]= df[\"address\"].apply(nom.geocode)\n",
    "df[\"latitude\"]= df[\"add'\"].apply(lambda x: x.latitude if x != None else None)\n",
    "df[\"longitude\"]= df[\"add'\"].apply(lambda x: x.longitude if x != None else None)\n",
    "df1 = df.drop(\"add'\" ,1)\n",
    "df1"
   ]
  },
  {
   "cell_type": "code",
   "execution_count": null,
   "id": "2a87437d",
   "metadata": {},
   "outputs": [],
   "source": []
  }
 ],
 "metadata": {
  "kernelspec": {
   "display_name": "Python 3 (ipykernel)",
   "language": "python",
   "name": "python3"
  },
  "language_info": {
   "codemirror_mode": {
    "name": "ipython",
    "version": 3
   },
   "file_extension": ".py",
   "mimetype": "text/x-python",
   "name": "python",
   "nbconvert_exporter": "python",
   "pygments_lexer": "ipython3",
   "version": "3.9.1"
  }
 },
 "nbformat": 4,
 "nbformat_minor": 5
}
